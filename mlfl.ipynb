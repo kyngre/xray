{
 "cells": [
  {
   "cell_type": "code",
   "execution_count": 1,
   "id": "3ceb8fde",
   "metadata": {},
   "outputs": [],
   "source": [
    "import mlflow\n",
    "\n",
    "mlflow.set_tracking_uri(\"http://10.125.208.184:5000\")"
   ]
  },
  {
   "cell_type": "code",
   "execution_count": 2,
   "id": "9a217a56",
   "metadata": {},
   "outputs": [],
   "source": [
    "from mlflow.tracking import MlflowClient\n"
   ]
  },
  {
   "cell_type": "code",
   "execution_count": 3,
   "id": "65450ebb",
   "metadata": {},
   "outputs": [],
   "source": [
    "client = MlflowClient()\n"
   ]
  },
  {
   "cell_type": "code",
   "execution_count": 5,
   "id": "985b7a9f",
   "metadata": {},
   "outputs": [
    {
     "name": "stderr",
     "output_type": "stream",
     "text": [
      "/tmp/ipykernel_529733/143660382.py:1: FutureWarning: ``mlflow.tracking.client.MlflowClient.transition_model_version_stage`` is deprecated since 2.9.0. Model registry stages will be removed in a future major release. To learn more about the deprecation of model registry stages, see our migration guide here: https://mlflow.org/docs/latest/model-registry.html#migrating-from-stages\n",
      "  client.transition_model_version_stage(\n"
     ]
    },
    {
     "data": {
      "text/plain": [
       "<ModelVersion: aliases=[], creation_timestamp=1745653621522, current_stage='Staging', description='', last_updated_timestamp=1745655083589, name='efficientnetb4', run_id='269385737c1743a7b035ebbe8cf50a75', run_link='', source='mlflow-artifacts:/0/269385737c1743a7b035ebbe8cf50a75/artifacts/model', status='READY', status_message=None, tags={}, user_id='', version='2'>"
      ]
     },
     "execution_count": 5,
     "metadata": {},
     "output_type": "execute_result"
    }
   ],
   "source": [
    "client.transition_model_version_stage(\n",
    "    name=\"efficientnetb4\",   # 네가 등록한 모델 이름\n",
    "    version=2,            # 변경할 모델 버전 (v1이면 1)\n",
    "    stage=\"Staging\"       # \"Staging\" 또는 \"Production\"\n",
    ")\n"
   ]
  },
  {
   "cell_type": "code",
   "execution_count": 12,
   "id": "14c8c266",
   "metadata": {},
   "outputs": [],
   "source": [
    "from torchvision import datasets\n",
    "from torch.utils.data import DataLoader\n",
    "from torchvision import transforms\n",
    "\n",
    "transform_vit = transforms.Compose([\n",
    "    transforms.Resize((224, 224)),         # ViT 입력 크기 (모델 따라 다를 수도 있음)\n",
    "    transforms.ToTensor(),                 # 이미지를 Tensor로 변환\n",
    "    transforms.Normalize(                  # ImageNet Normalize\n",
    "        mean=[0.485, 0.456, 0.406],\n",
    "        std=[0.229, 0.224, 0.225]\n",
    "    )\n",
    "])\n",
    "\n",
    "class CustomDataset(torch.utils.data.Dataset):\n",
    "    def __init__(self, folder_path, transform):\n",
    "        self.dataset = datasets.ImageFolder(folder_path)\n",
    "        self.transform = transform\n",
    "    \n",
    "    def __getitem__(self, idx):\n",
    "        img, label = self.dataset[idx]\n",
    "        img = self.transform(img)\n",
    "        return img, label\n",
    "\n",
    "    def __len__(self):\n",
    "        return len(self.dataset)\n",
    "\n",
    "# 데이터셋 정의\n",
    "train_ds = CustomDataset(TRAIN_PATH, transform=transform_vit)\n",
    "val_ds   = CustomDataset(VAL_PATH, transform=transform_vit)\n",
    "test_ds  = CustomDataset(TEST_PATH, transform=transform_vit)\n",
    "\n",
    "# DataLoader\n",
    "train_loader = DataLoader(train_ds, batch_size=32, shuffle=True)\n",
    "val_loader   = DataLoader(val_ds, batch_size=32, shuffle=False)\n",
    "test_loader  = DataLoader(test_ds, batch_size=32, shuffle=False)\n"
   ]
  },
  {
   "cell_type": "code",
   "execution_count": 9,
   "id": "bc0f4ec3",
   "metadata": {},
   "outputs": [],
   "source": [
    "import torch\n",
    "from torchvision import datasets, transforms\n",
    "from torch.utils.data import DataLoader\n",
    "import random\n",
    "\n",
    "# 랜덤 시드 고정\n",
    "torch.manual_seed(42)\n",
    "random.seed(42)\n",
    "\n",
    "# 데이터 경로\n",
    "TRAIN_PATH = \"/home/kangkr1002/facial_bone/Training\"\n",
    "VAL_PATH   = \"/home/kangkr1002/facial_bone/Validation\"\n",
    "TEST_PATH  = \"/home/kangkr1002/facial_bone/Test\"\n",
    "\n",
    "# 공통으로 사용할 transform 정의\n",
    "transform = transforms.Compose([\n",
    "    transforms.Resize((380, 380)),   # 380x380 크기 조정\n",
    "    transforms.ToTensor(),           # Tensor로 변환\n",
    "])\n",
    "\n",
    "# 데이터셋 만들기\n",
    "train_ds = datasets.ImageFolder(root=TRAIN_PATH, transform=transform)\n",
    "val_ds   = datasets.ImageFolder(root=VAL_PATH, transform=transform)\n",
    "test_ds  = datasets.ImageFolder(root=TEST_PATH, transform=transform)\n",
    "\n",
    "# DataLoader로 배치 만들기\n",
    "train_loader = DataLoader(train_ds, batch_size=32, shuffle=True)\n",
    "val_loader   = DataLoader(val_ds, batch_size=32, shuffle=True)\n",
    "test_loader  = DataLoader(test_ds, batch_size=32, shuffle=True)\n"
   ]
  },
  {
   "cell_type": "code",
   "execution_count": 7,
   "id": "3331a52d",
   "metadata": {},
   "outputs": [],
   "source": [
    "import torch\n",
    "\n",
    "device = torch.device('cuda' if torch.cuda.is_available() else 'cpu')\n"
   ]
  },
  {
   "cell_type": "code",
   "execution_count": 14,
   "id": "3b080f8f",
   "metadata": {},
   "outputs": [
    {
     "data": {
      "application/vnd.jupyter.widget-view+json": {
       "model_id": "7a4e927675af497e852594d23e387fa5",
       "version_major": 2,
       "version_minor": 0
      },
      "text/plain": [
       "Downloading artifacts:   0%|          | 0/6 [00:00<?, ?it/s]"
      ]
     },
     "metadata": {},
     "output_type": "display_data"
    },
    {
     "name": "stdout",
     "output_type": "stream",
     "text": [
      "Test Loss: 0.3234\n",
      "Test Accuracy: 0.8750\n",
      "\n",
      "Confusion Matrix:\n",
      "[[409  91]\n",
      " [ 34 466]]\n",
      "\n",
      "Classification Report:\n",
      "              precision    recall  f1-score   support\n",
      "\n",
      "           0     0.9233    0.8180    0.8674       500\n",
      "           1     0.8366    0.9320    0.8817       500\n",
      "\n",
      "    accuracy                         0.8750      1000\n",
      "   macro avg     0.8799    0.8750    0.8746      1000\n",
      "weighted avg     0.8799    0.8750    0.8746      1000\n",
      "\n"
     ]
    }
   ],
   "source": [
    "import torch\n",
    "import torch.nn as nn\n",
    "import mlflow\n",
    "import mlflow.pytorch\n",
    "from sklearn.metrics import confusion_matrix, classification_report\n",
    "\n",
    "# ===== device 세팅 =====\n",
    "device = torch.device('cuda' if torch.cuda.is_available() else 'cpu')\n",
    "\n",
    "# ===== criterion 세팅 =====\n",
    "criterion = nn.CrossEntropyLoss()\n",
    "\n",
    "# ===== MLflow 모델 불러오기 =====\n",
    "mlflow.set_tracking_uri(\"http://10.125.208.184:5000\")\n",
    "\n",
    "model_name = \"VIT_2_Model\"\n",
    "model_uri = f\"models:/{model_name}/Staging\"\n",
    "\n",
    "model = mlflow.pytorch.load_model(model_uri)\n",
    "model = model.to(device)\n",
    "model.eval()\n",
    "\n",
    "# ===== Test Set 평가 =====\n",
    "test_loss = 0.0\n",
    "test_correct = 0\n",
    "test_total = 0\n",
    "test_preds = []\n",
    "test_labels = []\n",
    "\n",
    "with torch.no_grad():\n",
    "    for images, labels in test_loader:\n",
    "        images = images.to(device)\n",
    "        labels = labels.to(device)\n",
    "\n",
    "        outputs = model(images)\n",
    "        logits = outputs.logits\n",
    "\n",
    "        loss = criterion(logits, labels)\n",
    "\n",
    "        test_loss += loss.item() * images.size(0)\n",
    "        preds = logits.argmax(dim=1)\n",
    "\n",
    "        test_total += labels.size(0)\n",
    "        test_correct += preds.eq(labels).sum().item()\n",
    "\n",
    "        test_preds.extend(preds.cpu().numpy())\n",
    "        test_labels.extend(labels.cpu().numpy())\n",
    "\n",
    "# ===== 결과 출력 =====\n",
    "avg_test_loss = test_loss / test_total\n",
    "test_accuracy = test_correct / test_total\n",
    "\n",
    "print(f\"Test Loss: {avg_test_loss:.4f}\")\n",
    "print(f\"Test Accuracy: {test_accuracy:.4f}\")\n",
    "\n",
    "cm = confusion_matrix(test_labels, test_preds)\n",
    "print(\"\\nConfusion Matrix:\")\n",
    "print(cm)\n",
    "\n",
    "cls_report = classification_report(test_labels, test_preds, digits=4)\n",
    "print(\"\\nClassification Report:\")\n",
    "print(cls_report)\n"
   ]
  },
  {
   "cell_type": "code",
   "execution_count": 15,
   "id": "ecdf06bb",
   "metadata": {},
   "outputs": [
    {
     "name": "stderr",
     "output_type": "stream",
     "text": [
      "/tmp/ipykernel_529733/1670350215.py:6: FutureWarning: ``mlflow.tracking.client.MlflowClient.transition_model_version_stage`` is deprecated since 2.9.0. Model registry stages will be removed in a future major release. To learn more about the deprecation of model registry stages, see our migration guide here: https://mlflow.org/docs/latest/model-registry.html#migrating-from-stages\n",
      "  client.transition_model_version_stage(\n"
     ]
    },
    {
     "data": {
      "text/plain": [
       "<ModelVersion: aliases=[], creation_timestamp=1745653927217, current_stage='Production', description='', last_updated_timestamp=1745655819475, name='VIT_2_Model', run_id='3754bfc67cc9457b8b665f1cb10d052b', run_link='', source='mlflow-artifacts:/0/3754bfc67cc9457b8b665f1cb10d052b/artifacts/model', status='READY', status_message=None, tags={}, user_id='', version='1'>"
      ]
     },
     "execution_count": 15,
     "metadata": {},
     "output_type": "execute_result"
    }
   ],
   "source": [
    "from mlflow.tracking import MlflowClient\n",
    "\n",
    "mlflow.set_tracking_uri(\"http://10.125.208.184:5000\")\n",
    "client = MlflowClient()\n",
    "\n",
    "client.transition_model_version_stage(\n",
    "    name=\"VIT_2_Model\",\n",
    "    version=1,  # 모델 버전\n",
    "    stage=\"Production\"\n",
    ")\n"
   ]
  },
  {
   "cell_type": "code",
   "execution_count": null,
   "id": "89fc561a",
   "metadata": {},
   "outputs": [],
   "source": []
  }
 ],
 "metadata": {
  "kernelspec": {
   "display_name": "Python 3",
   "language": "python",
   "name": "python3"
  },
  "language_info": {
   "codemirror_mode": {
    "name": "ipython",
    "version": 3
   },
   "file_extension": ".py",
   "mimetype": "text/x-python",
   "name": "python",
   "nbconvert_exporter": "python",
   "pygments_lexer": "ipython3",
   "version": "3.10.17"
  }
 },
 "nbformat": 4,
 "nbformat_minor": 5
}
