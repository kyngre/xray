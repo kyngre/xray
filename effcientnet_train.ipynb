{
 "cells": [
  {
   "cell_type": "code",
   "execution_count": 9,
   "id": "290f63de",
   "metadata": {},
   "outputs": [
    {
     "name": "stdout",
     "output_type": "stream",
     "text": [
      "torch version: 2.5.1\n"
     ]
    }
   ],
   "source": [
    "import torch\n",
    "\n",
    "print(\"torch version:\", torch.__version__)"
   ]
  },
  {
   "cell_type": "code",
   "execution_count": 21,
   "id": "fef1cff1",
   "metadata": {},
   "outputs": [],
   "source": [
    "import torch\n",
    "from torchvision import datasets, transforms\n",
    "from torch.utils.data import DataLoader\n",
    "import random\n",
    "\n",
    "# 랜덤 시드 고정\n",
    "torch.manual_seed(42)\n",
    "random.seed(42)\n",
    "\n",
    "# 데이터 경로\n",
    "TRAIN_PATH = \"/home/kangkr1002/facial_bone/Training\"\n",
    "VAL_PATH   = \"/home/kangkr1002/facial_bone/Validation\"\n",
    "TEST_PATH  = \"/home/kangkr1002/facial_bone/Test\"\n",
    "\n",
    "# 공통으로 사용할 transform 정의\n",
    "transform = transforms.Compose([\n",
    "    transforms.Resize((380, 380)),   # 380x380 크기 조정\n",
    "    transforms.ToTensor(),           # Tensor로 변환\n",
    "])\n",
    "\n",
    "# 데이터셋 만들기\n",
    "train_ds = datasets.ImageFolder(root=TRAIN_PATH, transform=transform)\n",
    "val_ds   = datasets.ImageFolder(root=VAL_PATH, transform=transform)\n",
    "test_ds  = datasets.ImageFolder(root=TEST_PATH, transform=transform)\n",
    "\n",
    "# DataLoader로 배치 만들기\n",
    "train_loader = DataLoader(train_ds, batch_size=32, shuffle=True)\n",
    "val_loader   = DataLoader(val_ds, batch_size=32, shuffle=True)\n",
    "test_loader  = DataLoader(test_ds, batch_size=32, shuffle=True)\n"
   ]
  },
  {
   "cell_type": "code",
   "execution_count": 22,
   "id": "0a11cce2",
   "metadata": {},
   "outputs": [
    {
     "name": "stderr",
     "output_type": "stream",
     "text": [
      "/home/kmj388/micromamba/envs/capston-pytorch/lib/python3.10/site-packages/torchvision/models/_utils.py:208: UserWarning: The parameter 'pretrained' is deprecated since 0.13 and may be removed in the future, please use 'weights' instead.\n",
      "  warnings.warn(\n",
      "/home/kmj388/micromamba/envs/capston-pytorch/lib/python3.10/site-packages/torchvision/models/_utils.py:223: UserWarning: Arguments other than a weight enum or `None` for 'weights' are deprecated since 0.13 and may be removed in the future. The current behavior is equivalent to passing `weights=None`.\n",
      "  warnings.warn(msg)\n"
     ]
    }
   ],
   "source": [
    "import torch\n",
    "import torch.nn as nn\n",
    "from torchvision import models\n",
    "\n",
    "# 디바이스 설정\n",
    "device = torch.device('cuda' if torch.cuda.is_available() else 'cpu')\n",
    "\n",
    "# EfficientNet-B4 불러오기 (pretrained=True: ImageNet으로 사전학습된 가중치 사용)\n",
    "model = models.efficientnet_b4(pretrained=False)\n",
    "\n",
    "# 마지막 출력층 수정 (네 데이터셋 클래스 수에 맞게)\n",
    "num_classes = len(train_ds.classes)  # ImageFolder가 자동으로 class 인식\n",
    "model.classifier[1] = nn.Linear(model.classifier[1].in_features, num_classes)\n",
    "\n",
    "# 모델 디바이스에 올리기\n",
    "model = model.to(device)\n",
    "\n",
    "# (참고) Optimizer, Loss 설정 예시\n",
    "criterion = nn.CrossEntropyLoss()\n",
    "optimizer = torch.optim.Adam(model.parameters(), lr=1e-4)\n"
   ]
  },
  {
   "cell_type": "code",
   "execution_count": null,
   "id": "90268c6c",
   "metadata": {},
   "outputs": [
    {
     "name": "stdout",
     "output_type": "stream",
     "text": [
      "Epoch [1/10] | Train Loss: 0.5421, Train Acc: 0.7147 | Val Loss: 0.3553, Val Acc: 0.8440\n",
      "Epoch [2/10] | Train Loss: 0.3333, Train Acc: 0.8563 | Val Loss: 0.2501, Val Acc: 0.8940\n",
      "Epoch [3/10] | Train Loss: 0.2249, Train Acc: 0.9081 | Val Loss: 0.1275, Val Acc: 0.9490\n",
      "Epoch [4/10] | Train Loss: 0.1625, Train Acc: 0.9376 | Val Loss: 0.1245, Val Acc: 0.9550\n",
      "Epoch [5/10] | Train Loss: 0.1218, Train Acc: 0.9528 | Val Loss: 0.0862, Val Acc: 0.9680\n",
      "Epoch [6/10] | Train Loss: 0.0998, Train Acc: 0.9627 | Val Loss: 0.0730, Val Acc: 0.9720\n",
      "Epoch [7/10] | Train Loss: 0.0725, Train Acc: 0.9743 | Val Loss: 0.0896, Val Acc: 0.9710\n",
      "Epoch [8/10] | Train Loss: 0.0703, Train Acc: 0.9744 | Val Loss: 0.0670, Val Acc: 0.9740\n"
     ]
    }
   ],
   "source": [
    "import mlflow\n",
    "num_epochs = 10\n",
    "mlflow.set_tracking_uri(\"http://10.125.208.184:5000\")\n",
    "with mlflow.start_run(run_name=\"effcientnetb4_4\"):  # 전체 학습을 하나의 run으로 묶는다\n",
    "    mlflow.log_param(\"learning_rate\", optimizer.param_groups[0]['lr'])\n",
    "    mlflow.log_param(\"batch_size\", train_loader.batch_size)\n",
    "    mlflow.log_param(\"num_epochs\", num_epochs)\n",
    "\n",
    "    for epoch in range(num_epochs):\n",
    "        model.train()\n",
    "        running_loss = 0.0\n",
    "        correct = 0\n",
    "        total = 0\n",
    "        \n",
    "        for images, labels in train_loader:\n",
    "            images = images.to(device)\n",
    "            labels = labels.to(device)\n",
    "\n",
    "            optimizer.zero_grad()\n",
    "            outputs = model(images)\n",
    "            loss = criterion(outputs, labels)\n",
    "            loss.backward()\n",
    "            optimizer.step()\n",
    "\n",
    "            running_loss += loss.item() * images.size(0)\n",
    "            _, predicted = outputs.max(1)\n",
    "            total += labels.size(0)\n",
    "            correct += predicted.eq(labels).sum().item()\n",
    "\n",
    "        train_loss = running_loss / total\n",
    "        train_acc = correct / total\n",
    "\n",
    "        # 검증(validation)\n",
    "        model.eval()\n",
    "        val_loss = 0.0\n",
    "        val_correct = 0\n",
    "        val_total = 0\n",
    "\n",
    "        with torch.no_grad():\n",
    "            for images, labels in val_loader:\n",
    "                images = images.to(device)\n",
    "                labels = labels.to(device)\n",
    "\n",
    "                outputs = model(images)\n",
    "                loss = criterion(outputs, labels)\n",
    "\n",
    "                val_loss += loss.item() * images.size(0)\n",
    "                _, predicted = outputs.max(1)\n",
    "                val_total += labels.size(0)\n",
    "                val_correct += predicted.eq(labels).sum().item()\n",
    "\n",
    "        val_loss = val_loss / val_total\n",
    "        val_acc = val_correct / val_total\n",
    "\n",
    "        # 👉 에폭마다 train/val 결과 기록\n",
    "        mlflow.log_metric(\"train_loss\", train_loss, step=epoch)\n",
    "        mlflow.log_metric(\"train_accuracy\", train_acc, step=epoch)\n",
    "        mlflow.log_metric(\"val_loss\", val_loss, step=epoch)\n",
    "        mlflow.log_metric(\"val_accuracy\", val_acc, step=epoch)\n",
    "\n",
    "        print(f\"Epoch [{epoch+1}/{num_epochs}] | \"\n",
    "              f\"Train Loss: {train_loss:.4f}, Train Acc: {train_acc:.4f} | \"\n",
    "              f\"Val Loss: {val_loss:.4f}, Val Acc: {val_acc:.4f}\")\n"
   ]
  },
  {
   "cell_type": "code",
   "execution_count": 10,
   "id": "5d98e1c5",
   "metadata": {},
   "outputs": [],
   "source": [
    "#모델 저장 pth\n",
    "torch.save(model.state_dict(), 'efficientnet_b4_facial_bone.pth')"
   ]
  },
  {
   "cell_type": "code",
   "execution_count": 11,
   "id": "a10d8789",
   "metadata": {},
   "outputs": [
    {
     "name": "stderr",
     "output_type": "stream",
     "text": [
      "2025/04/26 16:30:25 WARNING mlflow.utils.requirements_utils: The following packages were not found in the public PyPI package index as of 2025-04-15; if these packages are not present in the public PyPI index, you must install them manually before loading your model: {'mathmodule'}\n",
      "\u001b[31m2025/04/26 16:30:25 WARNING mlflow.models.model: Model logged without a signature and input example. Please set `input_example` parameter when logging the model to auto infer the model signature.\u001b[0m\n"
     ]
    },
    {
     "data": {
      "text/plain": [
       "<mlflow.models.model.ModelInfo at 0x79dffc0ebfa0>"
      ]
     },
     "execution_count": 11,
     "metadata": {},
     "output_type": "execute_result"
    }
   ],
   "source": [
    "mlflow.pytorch.log_model(model, artifact_path=\"model\")  # PyTorch 기준\n"
   ]
  },
  {
   "cell_type": "code",
   "execution_count": 12,
   "id": "7ffd289d",
   "metadata": {},
   "outputs": [
    {
     "name": "stdout",
     "output_type": "stream",
     "text": [
      "Test Loss: 0.0193, Test Acc: 0.9980\n"
     ]
    }
   ],
   "source": [
    "# model test with test_ds\n",
    "model.eval()\n",
    "test_loss = 0.0\n",
    "test_correct = 0\n",
    "test_total = 0\n",
    "with torch.no_grad():\n",
    "    for images, labels in test_loader:\n",
    "        images = images.to(device)\n",
    "        labels = labels.to(device)\n",
    "\n",
    "        outputs = model(images)\n",
    "        loss = criterion(outputs, labels)\n",
    "\n",
    "        test_loss += loss.item() * images.size(0)\n",
    "        _, predicted = outputs.max(1)\n",
    "        test_total += labels.size(0)\n",
    "        test_correct += predicted.eq(labels).sum().item()\n",
    "test_loss = test_loss / test_total\n",
    "test_acc = test_correct / test_total\n",
    "print(f\"Test Loss: {test_loss:.4f}, Test Acc: {test_acc:.4f}\")"
   ]
  },
  {
   "cell_type": "code",
   "execution_count": 20,
   "id": "2b330299",
   "metadata": {},
   "outputs": [],
   "source": [
    "model.eval()\n",
    "all_preds = []\n",
    "all_labels = []\n",
    "\n",
    "with torch.no_grad():\n",
    "    for images, labels in val_loader:\n",
    "        images = images.to(device)\n",
    "        labels = labels.to(device)\n",
    "\n",
    "        outputs = model(images)\n",
    "        preds = outputs.argmax(dim=1)\n",
    "\n",
    "        all_preds.extend(preds.cpu().numpy())\n",
    "        all_labels.extend(labels.cpu().numpy())\n"
   ]
  },
  {
   "cell_type": "code",
   "execution_count": 21,
   "id": "a0f7e682",
   "metadata": {},
   "outputs": [
    {
     "name": "stderr",
     "output_type": "stream",
     "text": [
      "2025/04/26 16:47:00 WARNING mlflow.utils.requirements_utils: The following packages were not found in the public PyPI package index as of 2025-04-15; if these packages are not present in the public PyPI index, you must install them manually before loading your model: {'mathmodule'}\n",
      "\u001b[31m2025/04/26 16:47:00 WARNING mlflow.models.model: Model logged without a signature and input example. Please set `input_example` parameter when logging the model to auto infer the model signature.\u001b[0m\n",
      "Registered model 'efficientnetb4' already exists. Creating a new version of this model...\n",
      "2025/04/26 16:47:01 INFO mlflow.store.model_registry.abstract_store: Waiting up to 300 seconds for model version to finish creation. Model name: efficientnetb4, version 2\n",
      "Created version '2' of model 'efficientnetb4'.\n"
     ]
    },
    {
     "name": "stdout",
     "output_type": "stream",
     "text": [
      "🏃 View run effcientnetb4 at: http://10.125.208.184:5000/#/experiments/0/runs/269385737c1743a7b035ebbe8cf50a75\n",
      "🧪 View experiment at: http://10.125.208.184:5000/#/experiments/0\n"
     ]
    },
    {
     "data": {
      "image/png": "[encoded data removed]",
      "text/plain": [
       "<Figure size 640x480 with 2 Axes>"
      ]
     },
     "metadata": {},
     "output_type": "display_data"
    }
   ],
   "source": [
    "import mlflow\n",
    "import mlflow.pytorch\n",
    "import matplotlib.pyplot as plt\n",
    "from sklearn.metrics import confusion_matrix, classification_report, ConfusionMatrixDisplay\n",
    "import torch\n",
    "import json\n",
    "\n",
    "# ===== 설정 =====\n",
    "mlflow.set_tracking_uri(\"http://10.125.208.184:5000\")\n",
    "run_id = \"269385737c1743a7b035ebbe8cf50a75\"  # 네 훈련했던 run_id\n",
    "\n",
    "# ===== 현재 열린 run 있으면 닫기 =====\n",
    "if mlflow.active_run():\n",
    "    mlflow.end_run()\n",
    "\n",
    "# ===== 기존 run 이어서 열기 =====\n",
    "with mlflow.start_run(run_id=run_id):\n",
    "\n",
    "    # 1. 모델 저장 + Model Registry 등록\n",
    "    mlflow.pytorch.log_model(model, artifact_path=\"model\")\n",
    "    model_uri = f\"runs:/{run_id}/model\"\n",
    "    mlflow.register_model(model_uri=model_uri, name=\"efficientnetb4\")\n",
    "\n",
    "    # 2. Confusion Matrix 저장\n",
    "    cm = confusion_matrix(all_labels, all_preds)\n",
    "    disp = ConfusionMatrixDisplay(confusion_matrix=cm)\n",
    "    disp.plot()\n",
    "    plt.title('Confusion Matrix')\n",
    "    plt.savefig(\"confusion_matrix.png\")\n",
    "    mlflow.log_artifact(\"confusion_matrix.png\")\n",
    "\n",
    "    # 3. Classification Report 저장\n",
    "    cls_report = classification_report(all_labels, all_preds, output_dict=True)\n",
    "    with open(\"classification_report.json\", \"w\") as f:\n",
    "        json.dump(cls_report, f, indent=4)\n",
    "    mlflow.log_artifact(\"classification_report.json\")\n"
   ]
  },
  {
   "cell_type": "code",
   "execution_count": 22,
   "id": "3761ce8f",
   "metadata": {},
   "outputs": [
    {
     "name": "stdout",
     "output_type": "stream",
     "text": [
      "Test Loss: 0.0193, Test Accuracy: 0.9980\n"
     ]
    }
   ],
   "source": [
    "# ===== 테스트 시작 =====\n",
    "model.eval()\n",
    "test_loss = 0.0\n",
    "test_correct = 0\n",
    "test_total = 0\n",
    "test_preds = []\n",
    "test_labels = []\n",
    "\n",
    "with torch.no_grad():\n",
    "    for images, labels in test_loader:   # ✅ 반드시 test_loader 필요\n",
    "        images = images.to(device)\n",
    "        labels = labels.to(device)\n",
    "\n",
    "        outputs = model(images)\n",
    "        loss = criterion(outputs, labels)\n",
    "\n",
    "        test_loss += loss.item() * images.size(0)\n",
    "        preds = outputs.argmax(dim=1)\n",
    "\n",
    "        test_total += labels.size(0)\n",
    "        test_correct += preds.eq(labels).sum().item()\n",
    "\n",
    "        test_preds.extend(preds.cpu().numpy())\n",
    "        test_labels.extend(labels.cpu().numpy())\n",
    "\n",
    "test_loss = test_loss / test_total\n",
    "test_accuracy = test_correct / test_total\n",
    "\n",
    "print(f\"Test Loss: {test_loss:.4f}, Test Accuracy: {test_accuracy:.4f}\")\n"
   ]
  },
  {
   "cell_type": "code",
   "execution_count": 23,
   "id": "cda76cd4",
   "metadata": {},
   "outputs": [
    {
     "name": "stdout",
     "output_type": "stream",
     "text": [
      "🏃 View run effcientnetb4 at: http://10.125.208.184:5000/#/experiments/0/runs/269385737c1743a7b035ebbe8cf50a75\n",
      "🧪 View experiment at: http://10.125.208.184:5000/#/experiments/0\n"
     ]
    },
    {
     "data": {
      "image/png": "[encoded data removed]",
      "text/plain": [
       "<Figure size 640x480 with 2 Axes>"
      ]
     },
     "metadata": {},
     "output_type": "display_data"
    }
   ],
   "source": [
    "import mlflow\n",
    "import matplotlib.pyplot as plt\n",
    "from sklearn.metrics import confusion_matrix, classification_report, ConfusionMatrixDisplay\n",
    "import json\n",
    "\n",
    "# ===== mlflow 이어서 기록 =====\n",
    "mlflow.set_tracking_uri(\"http://10.125.208.184:5000\")\n",
    "run_id = \"269385737c1743a7b035ebbe8cf50a75\"\n",
    "\n",
    "if mlflow.active_run():\n",
    "    mlflow.end_run()\n",
    "\n",
    "with mlflow.start_run(run_id=run_id):\n",
    "    # 1. 테스트 결과 메트릭 기록\n",
    "    mlflow.log_metric(\"test_loss\", test_loss)\n",
    "    mlflow.log_metric(\"test_accuracy\", test_accuracy)\n",
    "\n",
    "    # 2. Confusion Matrix\n",
    "    cm = confusion_matrix(test_labels, test_preds)\n",
    "    disp = ConfusionMatrixDisplay(confusion_matrix=cm)\n",
    "    disp.plot()\n",
    "    plt.title('Test Confusion Matrix')\n",
    "    plt.savefig(\"test_confusion_matrix.png\")\n",
    "    mlflow.log_artifact(\"test_confusion_matrix.png\")\n",
    "\n",
    "    # 3. Classification Report\n",
    "    cls_report = classification_report(test_labels, test_preds, output_dict=True)\n",
    "    with open(\"test_classification_report.json\", \"w\") as f:\n",
    "        json.dump(cls_report, f, indent=4)\n",
    "    mlflow.log_artifact(\"test_classification_report.json\")\n"
   ]
  },
  {
   "cell_type": "code",
   "execution_count": 15,
   "id": "1457aa6f",
   "metadata": {},
   "outputs": [
    {
     "name": "stderr",
     "output_type": "stream",
     "text": [
      "/home/kmj388/capston/ipykernel_635786/4166768975.py:1: FutureWarning: You are using `torch.load` with `weights_only=False` (the current default value), which uses the default pickle module implicitly. It is possible to construct malicious pickle data which will execute arbitrary code during unpickling (See https://github.com/pytorch/pytorch/blob/main/SECURITY.md#untrusted-models for more details). In a future release, the default value for `weights_only` will be flipped to `True`. This limits the functions that could be executed during unpickling. Arbitrary objects will no longer be allowed to be loaded via this mode unless they are explicitly allowlisted by the user via `torch.serialization.add_safe_globals`. We recommend you start setting `weights_only=True` for any use case where you don't have full control of the loaded file. Please open an issue on GitHub for any issues related to this experimental feature.\n",
      "  model = torch.load(\"efficientnet_b4_facial_bone.pth\")\n"
     ]
    }
   ],
   "source": [
    "model = torch.load(\"efficientnet_b4_facial_bone.pth\")"
   ]
  },
  {
   "cell_type": "code",
   "execution_count": 16,
   "id": "92daf3e4",
   "metadata": {},
   "outputs": [
    {
     "ename": "AttributeError",
     "evalue": "'collections.OrderedDict' object has no attribute 'to'",
     "output_type": "error",
     "traceback": [
      "\u001b[0;31m---------------------------------------------------------------------------\u001b[0m",
      "\u001b[0;31mAttributeError\u001b[0m                            Traceback (most recent call last)",
      "Cell \u001b[0;32mIn[16], line 18\u001b[0m\n\u001b[1;32m     11\u001b[0m transform \u001b[38;5;241m=\u001b[39m transforms\u001b[38;5;241m.\u001b[39mCompose([\n\u001b[1;32m     12\u001b[0m     transforms\u001b[38;5;241m.\u001b[39mLambda(\u001b[38;5;28;01mlambda\u001b[39;00m img: img\u001b[38;5;241m.\u001b[39mconvert(\u001b[38;5;124m'\u001b[39m\u001b[38;5;124mRGB\u001b[39m\u001b[38;5;124m'\u001b[39m)),\n\u001b[1;32m     13\u001b[0m     transforms\u001b[38;5;241m.\u001b[39mResize((\u001b[38;5;241m380\u001b[39m, \u001b[38;5;241m380\u001b[39m)),\n\u001b[1;32m     14\u001b[0m     transforms\u001b[38;5;241m.\u001b[39mToTensor()\n\u001b[1;32m     15\u001b[0m ])\n\u001b[1;32m     17\u001b[0m \u001b[38;5;66;03m# 모델도 디바이스로 이동\u001b[39;00m\n\u001b[0;32m---> 18\u001b[0m model \u001b[38;5;241m=\u001b[39m \u001b[43mmodel\u001b[49m\u001b[38;5;241;43m.\u001b[39;49m\u001b[43mto\u001b[49m(device)\n\u001b[1;32m     19\u001b[0m \u001b[38;5;66;03m# 불러오고 싶은 이미지 경로\u001b[39;00m\n\u001b[1;32m     20\u001b[0m image_path \u001b[38;5;241m=\u001b[39m \u001b[38;5;124m\"\u001b[39m\u001b[38;5;124m/home/kangkr1002/facial_bone/Test/Abnormal/Facial_bone_Abnormal_00000173.png\u001b[39m\u001b[38;5;124m\"\u001b[39m\n",
      "\u001b[0;31mAttributeError\u001b[0m: 'collections.OrderedDict' object has no attribute 'to'"
     ]
    }
   ],
   "source": [
    "from PIL import Image\n",
    "import torch\n",
    "\n",
    "# (이미 앞에서 만든) transform 그대로 사용\n",
    "# transform = transforms.Compose([...])\n",
    "# transform 정의 (RGB 강제 변환 추가)\n",
    "# 디바이스 설정\n",
    "device = torch.device(\"cuda\" if torch.cuda.is_available() else \"cpu\")\n",
    "\n",
    "# transform\n",
    "transform = transforms.Compose([\n",
    "    transforms.Lambda(lambda img: img.convert('RGB')),\n",
    "    transforms.Resize((380, 380)),\n",
    "    transforms.ToTensor()\n",
    "])\n",
    "\n",
    "# 모델도 디바이스로 이동\n",
    "model = model.to(device)\n",
    "# 불러오고 싶은 이미지 경로\n",
    "image_path = \"/home/kangkr1002/facial_bone/Test/Abnormal/Facial_bone_Abnormal_00000173.png\"\n",
    "\n",
    "# 1. 이미지 열기\n",
    "image = Image.open(image_path)\n",
    "\n",
    "# 2. transform 적용\n",
    "input_tensor = transform(image)  # (1, 380, 380)\n",
    "\n",
    "# 3. 모델에 넣기 위해 배치 차원 추가\n",
    "input_tensor = input_tensor.unsqueeze(0)  # (1, 1, 380, 380) 또는 (1, 3, 380, 380) (채널 수에 따라 다름)\n",
    "\n",
    "# 4. 모델에 넣고 예측\n",
    "model.eval()\n",
    "with torch.no_grad():\n",
    "    output = model(input_tensor)\n",
    "    pred = torch.argmax(output, dim=1)\n",
    "    print(f\"예측 결과: {pred.item()}\")\n"
   ]
  },
  {
   "cell_type": "code",
   "execution_count": 17,
   "id": "e08aefad",
   "metadata": {},
   "outputs": [
    {
     "name": "stderr",
     "output_type": "stream",
     "text": [
      "/home/kmj388/micromamba/envs/capston-pytorch/lib/python3.10/site-packages/torchvision/models/_utils.py:208: UserWarning: The parameter 'pretrained' is deprecated since 0.13 and may be removed in the future, please use 'weights' instead.\n",
      "  warnings.warn(\n",
      "/home/kmj388/micromamba/envs/capston-pytorch/lib/python3.10/site-packages/torchvision/models/_utils.py:223: UserWarning: Arguments other than a weight enum or `None` for 'weights' are deprecated since 0.13 and may be removed in the future. The current behavior is equivalent to passing `weights=None`.\n",
      "  warnings.warn(msg)\n"
     ]
    }
   ],
   "source": [
    "from torchvision.models import efficientnet_b4\n",
    "\n",
    "# 1. 모델 아키텍처 선언\n",
    "model = efficientnet_b4(pretrained=False, num_classes=2)  # 💥 num_classes=2 (네 프로젝트에 맞춰)\n"
   ]
  },
  {
   "cell_type": "code",
   "execution_count": 18,
   "id": "bdf6f3ec",
   "metadata": {},
   "outputs": [
    {
     "name": "stderr",
     "output_type": "stream",
     "text": [
      "/home/kmj388/capston/ipykernel_635786/2094987660.py:6: FutureWarning: You are using `torch.load` with `weights_only=False` (the current default value), which uses the default pickle module implicitly. It is possible to construct malicious pickle data which will execute arbitrary code during unpickling (See https://github.com/pytorch/pytorch/blob/main/SECURITY.md#untrusted-models for more details). In a future release, the default value for `weights_only` will be flipped to `True`. This limits the functions that could be executed during unpickling. Arbitrary objects will no longer be allowed to be loaded via this mode unless they are explicitly allowlisted by the user via `torch.serialization.add_safe_globals`. We recommend you start setting `weights_only=True` for any use case where you don't have full control of the loaded file. Please open an issue on GitHub for any issues related to this experimental feature.\n",
      "  state_dict = torch.load('/home/kmj388/capston/efficientnet_b4_facial_bone.pth', map_location=device)\n"
     ]
    },
    {
     "data": {
      "text/plain": [
       "<All keys matched successfully>"
      ]
     },
     "execution_count": 18,
     "metadata": {},
     "output_type": "execute_result"
    }
   ],
   "source": [
    "# 2. 디바이스 설정\n",
    "device = torch.device(\"cuda\" if torch.cuda.is_available() else \"cpu\")\n",
    "model = model.to(device)\n",
    "\n",
    "# 3. 저장한 가중치 불러오기\n",
    "state_dict = torch.load('/home/kmj388/capston/efficientnet_b4_facial_bone.pth', map_location=device)\n",
    "\n",
    "# 4. 모델에 가중치 적용\n",
    "model.load_state_dict(state_dict)\n",
    "\n",
    "# 5. 이제 모델을 써서 예측\n"
   ]
  },
  {
   "cell_type": "code",
   "execution_count": 19,
   "id": "10e120bb",
   "metadata": {},
   "outputs": [
    {
     "name": "stdout",
     "output_type": "stream",
     "text": [
      "예측 결과: 0\n"
     ]
    }
   ],
   "source": [
    "\n",
    "# Transform 정의\n",
    "transform = transforms.Compose([\n",
    "    transforms.Lambda(lambda img: img.convert('RGB')),\n",
    "    transforms.Resize((380, 380)),\n",
    "    transforms.ToTensor()\n",
    "])\n",
    "\n",
    "# 테스트할 이미지 경로\n",
    "image_path = \"/home/kangkr1002/facial_bone/Test/Abnormal/Facial_bone_Abnormal_00000173.png\"\n",
    "\n",
    "# 이미지 불러오기 및 전처리\n",
    "image = Image.open(image_path)\n",
    "input_tensor = transform(image).unsqueeze(0).to(device)\n",
    "\n",
    "# 모델 예측\n",
    "model.eval()\n",
    "with torch.no_grad():\n",
    "    output = model(input_tensor)\n",
    "    pred = torch.argmax(output, dim=1)\n",
    "    print(f\"예측 결과: {pred.item()}\")"
   ]
  },
  {
   "cell_type": "code",
   "execution_count": null,
   "id": "210dad03",
   "metadata": {},
   "outputs": [],
   "source": []
  }
 ],
 "metadata": {
  "kernelspec": {
   "display_name": "Python 3",
   "language": "python",
   "name": "python3"
  },
  "language_info": {
   "codemirror_mode": {
    "name": "ipython",
    "version": 3
   },
   "file_extension": ".py",
   "mimetype": "text/x-python",
   "name": "python",
   "nbconvert_exporter": "python",
   "pygments_lexer": "ipython3",
   "version": "3.10.17"
  }
 },
 "nbformat": 4,
 "nbformat_minor": 5
}
